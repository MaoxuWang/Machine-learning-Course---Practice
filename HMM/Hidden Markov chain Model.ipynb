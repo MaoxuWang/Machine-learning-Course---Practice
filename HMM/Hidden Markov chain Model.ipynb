{
 "cells": [
  {
   "cell_type": "markdown",
   "metadata": {},
   "source": [
    "# **生物信息学课程报告二：隐马尔可夫链**"
   ]
  },
  {
   "cell_type": "markdown",
   "metadata": {},
   "source": [
    "## 问题描述：现有三种骰子，分别为四面体、六面体和八面体。有一位同学分三次随机挑选其中一种骰子掷出，依次产生了1、6、3的结果。利用动态规划方法计算该同学依次掷出的何种骰子。\n"
   ]
  },
  {
   "cell_type": "markdown",
   "metadata": {},
   "source": [
    "### **1. 介绍**\n",
    "\n",
    "#### 隐马尔可夫链是一种著名的有向图模型，广泛运用于语音识别、自然语言处理、序列比对等领域。相比马尔可夫链，HMM在状态的基础上增加了符号的概念，每个状态以不同的概率产生一组可以观测的符号。该模型也自然具有马尔可夫链的性质，即**系统下一时刻的状态仅由当前状态决定，不依赖于以往的任何状态.**\n",
    "\n",
    "\n",
    "<img src='./image/hidden markov chain.png' width=1000>\n",
    "<p style=\"text-align:center;\">Figure 1. HMM模型概述</p>\n",
    "\n",
    "#### 为了确定一个隐马尔可夫链还需要以下三组参数：$\\lambda = [A,B,\\pi]$"
   ]
  },
  {
   "cell_type": "markdown",
   "metadata": {},
   "source": [
    "#### **1.1 状态转移概率**\n",
    "<img src='./image/1.png'>\n",
    "\n",
    "#### **1.2 输出观测概率**\n",
    "<img src='./image/2.png'>"
   ]
  },
  {
   "cell_type": "markdown",
   "metadata": {},
   "source": [
    "#### **1.3 初始状态概率**\n",
    "模型在初始时刻各状态出现的概率，记位$\\pi=(\\pi_1,\\pi_2,\\pi_3,...,\\pi_N)$,其中\n",
    "$$\n",
    "\\pi_i = P(y_1=s_i),\\quad1≤i≤N\n",
    "$$\n",
    "表示模型的初状态为$s_i$的概率"
   ]
  },
  {
   "cell_type": "markdown",
   "metadata": {},
   "source": [
    "## **2. Viterbi algorithm**\n",
    "维特比算法是基于动态规划思想的解码算法，可以解决从观测序列获得最有可能的状态序列问题。"
   ]
  },
  {
   "cell_type": "markdown",
   "metadata": {},
   "source": [
    "#### **2.1 模型初始化**\n",
    "随机抽选，即为均匀分布"
   ]
  },
  {
   "cell_type": "code",
   "execution_count": 85,
   "metadata": {},
   "outputs": [],
   "source": [
    "## 可能出现的状态\n",
    "states = ('tetrahedron','Hexahedron', 'Octahedron') \n",
    "##初始时刻的概率\n",
    "initial_pro = {'tetrahedron':1/3,'Hexahedron':1/3, 'Octahedron':1/3}\n",
    "## 转移概率\n",
    "transition_pro = {\n",
    "    'tetrahedron':{'tetrahedron':1/3,'Hexahedron':1/3, 'Octahedron':1/3},\n",
    "    'Hexahedron':{'tetrahedron':1/3,'Hexahedron':1/3, 'Octahedron':1/3}, \n",
    "    'Octahedron':{'tetrahedron':1/3,'Hexahedron':1/3, 'Octahedron':1/3}\n",
    "   }\n",
    "## 生成概率\n",
    "emission_pro = {\n",
    "    'tetrahedron':{'1':1/4,'2':1/4,'3':1/4,'4':1/4,'5':0,'6':0,'7':0,'8':0},\n",
    "    'Hexahedron':{'1':1/6,'2':1/6,'3':1/6,'4':1/6,'5':1/6,'6':1/6,'7':0,'8':0}, \n",
    "    'Octahedron':{'1':1/8,'2':1/8,'3':1/8,'4':1/8,'5':1/8,'6':1/8,'7':1/8,'8':1/8}\n",
    "}\n",
    "##观测序列\n",
    "observations = ['1','6','3']"
   ]
  },
  {
   "cell_type": "markdown",
   "metadata": {},
   "source": [
    "#### **2.2 维特比算法**"
   ]
  },
  {
   "cell_type": "code",
   "execution_count": 165,
   "metadata": {},
   "outputs": [],
   "source": [
    "def Viterbit_algorithm(observations, states, initial_pro, transition_pro,emission_pro):\n",
    "    \"\"\"\n",
    "    input: 观测序列，HMM模型参数\n",
    "    output: 生成该观测序列的概率最大状态链\n",
    "    \"\"\"\n",
    "    ## path[s]：达到状态s前的最优路径\n",
    "    path = {s:[] for s in states}\n",
    "    curr_pro = {}\n",
    "    ## 初始化：每一个状态下生成序列首元素的概率\n",
    "    for s in states:\n",
    "        curr_pro[s] = initial_pro[s]*emission_pro[s][observations[0]]\n",
    "    for i in range(1,len(observations)):\n",
    "        ## last_pro 保存上一个观测序列路径的状态概率\n",
    "        last_pro = curr_pro\n",
    "        curr_pro = {}\n",
    "        for curr_state in states:\n",
    "            max_pro, last_state = max(((last_pro[last_state]*transition_pro[last_state][curr_state]*emission_pro[curr_state][observations[i]], last_state)\n",
    "                                      for last_state in states))\n",
    "            curr_pro[curr_state] = max_pro\n",
    "            path[curr_state].append(last_state)\n",
    "            \n",
    "    # find the final largest probability\n",
    "    max_pro = -1\n",
    "    max_path = None\n",
    "\n",
    "    for s in states:\n",
    "        path[s].append(s)\n",
    "        if curr_pro[s] > max_pro:\n",
    "            max_path = path[s]\n",
    "            max_pro = curr_pro[s]\n",
    "    return max_path        "
   ]
  },
  {
   "cell_type": "markdown",
   "metadata": {},
   "source": [
    "#### **2.3 结果**"
   ]
  },
  {
   "cell_type": "code",
   "execution_count": 166,
   "metadata": {},
   "outputs": [
    {
     "name": "stdout",
     "output_type": "stream",
     "text": [
      "with the observation, the final path is \"tetrahedron——>Hexahedron——>tetrahedron\"\"\n"
     ]
    }
   ],
   "source": [
    "if __name__ == '__main__':\n",
    "    final_result = Viterbit_algorithm(observations, states, initial_pro, transition_pro, emission_pro)\n",
    "    print(f'with the observation, the final path is \"{final_result[0]}——>{final_result[1]}——>{final_result[2]}\"\"')"
   ]
  },
  {
   "cell_type": "markdown",
   "metadata": {},
   "source": [
    "即四面体——>六面体——>四面体"
   ]
  }
 ],
 "metadata": {
  "kernelspec": {
   "display_name": "Python 3",
   "language": "python",
   "name": "python3"
  },
  "language_info": {
   "codemirror_mode": {
    "name": "ipython",
    "version": 3
   },
   "file_extension": ".py",
   "mimetype": "text/x-python",
   "name": "python",
   "nbconvert_exporter": "python",
   "pygments_lexer": "ipython3",
   "version": "3.7.3"
  }
 },
 "nbformat": 4,
 "nbformat_minor": 2
}
